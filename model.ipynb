{
 "cells": [
  {
   "cell_type": "code",
   "execution_count": 1,
   "metadata": {},
   "outputs": [],
   "source": [
    "import tensorflow as tf"
   ]
  },
  {
   "cell_type": "markdown",
   "metadata": {},
   "source": [
    "# TensorFlow Graph"
   ]
  },
  {
   "cell_type": "code",
   "execution_count": 18,
   "metadata": {},
   "outputs": [],
   "source": [
    "BOARD_SIZE = 8\n",
    "N_PLANES = 13\n",
    "DEFAULT_N_FILTER = 256\n",
    "N_ACTIONS = 8 * 8 * 73\n",
    "\n",
    "N_POLICY_FILTER = 2\n",
    "N_VALUE_FILTER = 1\n",
    "\n",
    "N_RESIDUAL = 3"
   ]
  },
  {
   "cell_type": "code",
   "execution_count": 19,
   "metadata": {},
   "outputs": [],
   "source": [
    "def convolution_block(inputs):\n",
    "    conv = tf.layers.conv2d(inputs, filters=DEFAULT_N_FILTER, kernel_size=3, strides=(1, 1), padding='SAME')\n",
    "    batch = tf.layers.batch_normalization(conv, training=train_ind)\n",
    "    act = tf.nn.relu(batch)\n",
    "    return act\n",
    "\n",
    "\n",
    "def residual_block(inputs):\n",
    "    conv1 = tf.layers.conv2d(inputs, filters=DEFAULT_N_FILTER, kernel_size=3, strides=(1, 1), padding='SAME')\n",
    "    batch1 = tf.layers.batch_normalization(conv1, training=train_ind)\n",
    "    act1 = tf.nn.relu(batch1)\n",
    "    conv2 = tf.layers.conv2d(act1, filters=DEFAULT_N_FILTER, kernel_size=3, strides=(1, 1), padding='SAME')\n",
    "    batch2 = tf.layers.batch_normalization(conv2, training=train_ind)\n",
    "    connect = batch2 + inputs\n",
    "    act2 = tf.nn.relu(connect)\n",
    "    return act2\n",
    "\n",
    "\n",
    "def policy_head(inputs):\n",
    "    conv = tf.layers.conv2d(inputs, filters=N_POLICY_FILTER, kernel_size=1, padding='SAME')\n",
    "    batch = tf.layers.batch_normalization(conv, training=train_ind)\n",
    "    act = tf.nn.relu(batch)\n",
    "    flat = tf.layers.flatten(act)\n",
    "    policy = tf.layers.dense(flat, N_ACTIONS)\n",
    "    return policy\n",
    "\n",
    "def value_head(inputs):\n",
    "    conv = tf.layers.conv2d(inputs, filters=N_VALUE_FILTER, kernel_size=1, padding='SAME')\n",
    "    batch = tf.layers.batch_normalization(conv, training=train_ind)\n",
    "    act1 = tf.nn.relu(batch)\n",
    "    dense = tf.layers.dense(act1, 256)\n",
    "    act2 = tf.nn.relu(dense)\n",
    "    dense2 = tf.layers.dense(act2, 1)\n",
    "    value = tf.nn.tanh(dense2)\n",
    "    return value"
   ]
  },
  {
   "cell_type": "code",
   "execution_count": 21,
   "metadata": {},
   "outputs": [],
   "source": [
    "tf.reset_default_graph()\n",
    "\n",
    "state = tf.placeholder(tf.float32, [None, BOARD_SIZE, BOARD_SIZE, N_PLANES])\n",
    "train_ind = tf.placeholder(tf.bool, [])\n",
    "\n",
    "h = convolution_block(state)\n",
    "\n",
    "for i in range(N_RESIDUAL):\n",
    "    h = residual_block(h)\n",
    "    \n",
    "policy = policy_head(h)\n",
    "value = policy_head(h)"
   ]
  },
  {
   "cell_type": "code",
   "execution_count": null,
   "metadata": {},
   "outputs": [],
   "source": []
  }
 ],
 "metadata": {
  "kernelspec": {
   "display_name": "Python 3",
   "language": "python",
   "name": "python3"
  },
  "language_info": {
   "codemirror_mode": {
    "name": "ipython",
    "version": 3
   },
   "file_extension": ".py",
   "mimetype": "text/x-python",
   "name": "python",
   "nbconvert_exporter": "python",
   "pygments_lexer": "ipython3",
   "version": "3.5.2"
  }
 },
 "nbformat": 4,
 "nbformat_minor": 2
}
